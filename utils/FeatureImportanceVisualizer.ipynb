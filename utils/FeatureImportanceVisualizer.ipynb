{
 "cells": [
  {
   "cell_type": "code",
   "execution_count": null,
   "metadata": {},
   "outputs": [],
   "source": [
    "import matplotlib.pyplot as plt\n",
    "import pandas as pd\n",
    "import shap\n",
    "from PermutationFeatureSelector import PermutationFeatureSelector\n",
    "\n",
    "class FeatureImportanceVisualizer:\n",
    "    def __init__(self, model, X_train, y_train, X_test, y_test):\n",
    "        self.model = model\n",
    "        self.X_train = X_train\n",
    "        self.y_train = y_train\n",
    "        self.X_test = X_test\n",
    "        self.y_test = y_test\n",
    "\n",
    "    def plot_feature_importance(self, figsize=(12, 10)):\n",
    "        feature_importances = self.model.feature_importance(importance_type='gain')\n",
    "        feature_names = self.X_train.columns\n",
    "        feature_imp_df = pd.DataFrame({\n",
    "            'Feature': feature_names,\n",
    "            'Importance': feature_importances\n",
    "        }).sort_values(by='Importance', ascending=False)\n",
    "        plt.figure(figsize=figsize)\n",
    "        plt.barh(feature_imp_df['Feature'], feature_imp_df['Importance'])\n",
    "        plt.xlabel('Importance')\n",
    "        plt.ylabel('Feature')\n",
    "        plt.title('Feature Importance')\n",
    "        plt.gca().invert_yaxis()\n",
    "        plt.show()\n",
    "\n",
    "    def plot_shap_importance(self, figsize=(12, 10)):\n",
    "        explainer = shap.TreeExplainer(self.model)\n",
    "        shap_values = explainer.shap_values(self.X_train)\n",
    "        plt.figure(figsize=figsize)\n",
    "        shap.summary_plot(shap_values, self.X_train, plot_type=\"bar\", show=False)\n",
    "        plt.show()\n",
    "\n",
    "    def plot_permutation_importance(self, figsize=(12, 10)):\n",
    "        permutation_importance = PermutationFeatureSelector(self.model, self.X_test, self.y_test, metric='rmse', random_state=28)\n",
    "        permutation_importance.plot_permutation_importance(figsize=figsize, positive_color='blue', negative_color='red')\n",
    "\n",
    "    def plot_all(self, figsize=(12, 10)):\n",
    "        self.plot_feature_importance(figsize)\n",
    "        self.plot_shap_importance(figsize)\n",
    "        self.plot_permutation_importance(figsize)\n",
    "\n",
    "\n",
    "\n",
    "#visualizer = FeatureImportanceVisualizer(model, X_train, y_train, X_test, y_test)\n",
    "#visualizer.plot_all(figsize=(12, 10))\n"
   ]
  }
 ],
 "metadata": {
  "language_info": {
   "name": "python"
  }
 },
 "nbformat": 4,
 "nbformat_minor": 2
}
