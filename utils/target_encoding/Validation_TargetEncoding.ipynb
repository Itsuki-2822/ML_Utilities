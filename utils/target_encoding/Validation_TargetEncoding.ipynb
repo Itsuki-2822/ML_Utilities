{
 "cells": [
  {
   "cell_type": "code",
   "execution_count": null,
   "metadata": {},
   "outputs": [],
   "source": [
    "def target_enc(df,test,col,target_col):\n",
    "    features = [col for col in df.columns if col != target_col]\n",
    "    kf = KFold(n_splits=CFG.n_folds,shuffle=True,random_state = seed)\n",
    "    encoded_features = []\n",
    "\n",
    "    for train_idx, val_idx in kf.split(df):\n",
    "        X_train, X_valid = df[features].iloc[train_idx], df[features].iloc[val_idx]\n",
    "        y_train = df[CFG.target_col].iloc[train_idx]\n",
    "\n",
    "        target_encoder = ce.TargetEncoder()\n",
    "        target_encoder.fit(X_train[col], y_train)\n",
    "\n",
    "        X_valid[f'{col}_target_Encoded'] = target_encoder.transform(X_valid[col])\n",
    "        encoded_features.append(X_valid)\n",
    "\n",
    "\n",
    "    encoded_df = pd.concat(encoded_features).sort_index()\n",
    "    df[f'{col}_target_Encoded'] = encoded_df[f'{col}_target_Encoded']\n",
    "    \n",
    "    target_encoder = ce.TargetEncoder()\n",
    "    target_encoder.fit(df[[col]], df[CFG.target_col])\n",
    "\n",
    "    test[f'{col}_target_Encoded'] = target_encoder.transform(test[[col]])\n",
    "    \n",
    "    return df, test"
   ]
  }
 ],
 "metadata": {
  "language_info": {
   "name": "python"
  }
 },
 "nbformat": 4,
 "nbformat_minor": 2
}
