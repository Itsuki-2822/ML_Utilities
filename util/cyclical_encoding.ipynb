{
 "cells": [
  {
   "cell_type": "code",
   "execution_count": null,
   "metadata": {},
   "outputs": [],
   "source": [
    "import pandas as pd\n",
    "import numpy as np\n",
    "\n",
    "def cyclical_encoding(df,col):\n",
    "    df['datetime'] = pd.to_datetime(df[col])\n",
    "\n",
    "    df['year'] = df[col].dt.year\n",
    "    df['month'] = df[col].dt.month\n",
    "    df['day'] = df[col].dt.day\n",
    "    df['hour'] = df[col].dt.hour\n",
    "    df['minute'] = df[col].dt.minute\n",
    "    df['second'] = df[col].dt.second\n",
    "    df['dayofweek'] = df[col].dt.dayofweek\n",
    "\n",
    "    df['hour_sin'] = np.sin(2 * np.pi * df['hour']/24)\n",
    "    df['hour_cos'] = np.cos(2 * np.pi * df['hour']/24)\n",
    "    \n",
    "    def days_in_month(year, month):\n",
    "        if month in [1, 3, 5, 7, 8, 10, 12]:\n",
    "            return 31\n",
    "        elif month in [4, 6, 9, 11]:\n",
    "            return 30\n",
    "        elif month == 2:\n",
    "            if (year % 4 == 0 and year % 100 != 0) or (year % 400 == 0):\n",
    "                return 29\n",
    "            else:\n",
    "                return 28\n",
    "        else:\n",
    "            raise ValueError(\"Invalid month value\")\n",
    "\n",
    "    df['day_sin'] = df.apply(lambda row: np.sin(2 * np.pi * row['day'] / days_in_month(row['year'], row['month'])), axis=1)\n",
    "    df['day_cos'] = df.apply(lambda row: np.cos(2 * np.pi * row['day'] / days_in_month(row['year'], row['month'])), axis=1)\n",
    "\n",
    "    df['dayofweek_sin'] = np.sin(2 * np.pi * df['dayofweek']/7)\n",
    "    df['dayofweek_cos'] = np.cos(2 * np.pi * df['dayofweek']/7)\n",
    "\n",
    "    df.drop(['datetime','year'],axis=1,inplace=True)\n",
    "    return df"
   ]
  }
 ],
 "metadata": {
  "language_info": {
   "name": "python"
  }
 },
 "nbformat": 4,
 "nbformat_minor": 2
}
