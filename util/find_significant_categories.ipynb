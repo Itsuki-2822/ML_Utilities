{
 "cells": [
  {
   "cell_type": "code",
   "execution_count": null,
   "metadata": {},
   "outputs": [],
   "source": [
    "import pandas as pd\n",
    "def find_significant_categories(df, column, target_col, significance_threshold=2.0, mu=None, sigma=None):\n",
    "    if not isinstance(df[column].dtype, pd.CategoricalDtype):\n",
    "        df[column] = df[column].astype('category')\n",
    "\n",
    "    if mu is None:\n",
    "        mu = df[target_col].mean()\n",
    "    if sigma is None:\n",
    "        sigma = df[target_col].std()\n",
    "\n",
    "    levels_df = df.groupby(column, observed=True).agg(\n",
    "        n_=(target_col, 'size'),\n",
    "        mean_=(target_col, 'mean'),\n",
    "        std_=(target_col, 'std')\n",
    "    )\n",
    "\n",
    "    levels_df['z_'] = (levels_df['mean_'] - mu) / (levels_df['std_'] / np.sqrt(levels_df['n_']))\n",
    "    \n",
    "    important_levels = levels_df[\n",
    "        levels_df['z_'].abs() > significance_threshold\n",
    "    ].index.tolist()\n",
    "\n",
    "    return important_levels"
   ]
  }
 ],
 "metadata": {
  "language_info": {
   "name": "python"
  }
 },
 "nbformat": 4,
 "nbformat_minor": 2
}
